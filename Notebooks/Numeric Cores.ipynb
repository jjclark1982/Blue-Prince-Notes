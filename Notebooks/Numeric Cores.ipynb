{
 "cells": [
  {
   "cell_type": "markdown",
   "id": "4c8a001e-1303-4881-ba0f-eb026127b4d2",
   "metadata": {},
   "source": [
    "### Numeric Cores\n",
    "\n",
    "- Take any number with four or more digits. Without changing the sequence, split the numbe into four smaller numbers. (ex. `86455` becomes `8` `6` `45` `5`)\n",
    "- Next, assign each a different color, resulting in a valid mathematical equation. The first number should always be assigned teal to begin with a positive number. (ex. $+$ `8` $-$ `6` $\\times$ `45` $÷$ `5`)\n",
    "- If the result is a number with more than three digits, repeat the above process. The final number you obtain that is less than four digits is considered the “numeric core” of the larger number. (ex. 18)"
   ]
  },
  {
   "cell_type": "code",
   "execution_count": 1,
   "id": "8595b852-9243-404e-b820-dcc8fd689bb5",
   "metadata": {},
   "outputs": [],
   "source": [
    "import numpy as np\n",
    "import operator\n",
    "import pandas as pd\n",
    "import sympy\n",
    "import itertools\n",
    "import functools\n",
    "import IPython.display"
   ]
  },
  {
   "cell_type": "code",
   "execution_count": 2,
   "id": "e8cbad05-9266-42b5-a37b-568211277a6f",
   "metadata": {},
   "outputs": [
    {
     "data": {
      "text/plain": [
       "[16, 9, 7, 19]"
      ]
     },
     "execution_count": 2,
     "metadata": {},
     "output_type": "execute_result"
    }
   ],
   "source": [
    "def word_to_nums(word: str):\n",
    "    return [ord(char) - 64 for char in word.strip().upper()]\n",
    "\n",
    "word_to_nums(\"pigs\")"
   ]
  },
  {
   "cell_type": "code",
   "execution_count": 3,
   "id": "37e6b75e-305c-4ce8-be2d-ba3324b442b0",
   "metadata": {},
   "outputs": [
    {
     "data": {
      "text/plain": [
       "'PIGS'"
      ]
     },
     "execution_count": 3,
     "metadata": {},
     "output_type": "execute_result"
    }
   ],
   "source": [
    "def nums_to_word(*nums):\n",
    "    return ''.join([*(chr(n + 64) for n in nums)])\n",
    "\n",
    "nums_to_word(16, 9, 7, 19)"
   ]
  },
  {
   "cell_type": "code",
   "execution_count": 4,
   "id": "0723b7ea-88d7-4b22-85e6-e3a142d45621",
   "metadata": {},
   "outputs": [
    {
     "data": {
      "text/plain": [
       "[[8, 6, 4, 55], [8, 6, 45, 5], [8, 64, 5, 5], [86, 4, 5, 5]]"
      ]
     },
     "execution_count": 4,
     "metadata": {},
     "output_type": "execute_result"
    }
   ],
   "source": [
    "def number_splits(num, n=4):\n",
    "    if type(num) is str:\n",
    "        if len(num) != n:\n",
    "            raise ValueError()\n",
    "        yield word_to_nums(num)\n",
    "        return\n",
    "    digits = list(str(num))\n",
    "    for digit_combo in itertools.combinations(range(len(digits)-1), n-1):\n",
    "        numbers = np.split(digits, np.array(digit_combo)+1)\n",
    "        yield([int(''.join([str(n) for n in number])) for number in numbers])\n",
    "\n",
    "[*number_splits(86455)]"
   ]
  },
  {
   "cell_type": "code",
   "execution_count": 5,
   "id": "1a99e594-72e5-4e3b-adb4-0de0edc8959f",
   "metadata": {},
   "outputs": [
    {
     "data": {
      "text/plain": [
       "[[16, 9, 7, 19]]"
      ]
     },
     "execution_count": 5,
     "metadata": {},
     "output_type": "execute_result"
    }
   ],
   "source": [
    "[*number_splits('pigs')]"
   ]
  },
  {
   "cell_type": "code",
   "execution_count": 6,
   "id": "bebbaf84-9fd8-45b6-8c6f-6e5ebaa5ec1b",
   "metadata": {},
   "outputs": [
    {
     "data": {
      "text/plain": [
       "[['+', '-', '×', '÷'],\n",
       " ['+', '-', '÷', '×'],\n",
       " ['+', '×', '-', '÷'],\n",
       " ['+', '×', '÷', '-'],\n",
       " ['+', '÷', '-', '×'],\n",
       " ['+', '÷', '×', '-']]"
      ]
     },
     "execution_count": 6,
     "metadata": {},
     "output_type": "execute_result"
    }
   ],
   "source": [
    "ops = ['+', '-', '×', '÷']\n",
    "op_lookup = {\n",
    "    '+': operator.add,\n",
    "    '-': operator.sub,\n",
    "    '×': operator.mul,\n",
    "    '÷': operator.truediv\n",
    "}\n",
    "op_orders = [ops[:1] + list(o) for o in itertools.permutations(ops[1:])]\n",
    "op_orders"
   ]
  },
  {
   "cell_type": "code",
   "execution_count": 7,
   "id": "d69e6623-1d37-4e22-a91b-0b752df697d1",
   "metadata": {},
   "outputs": [
    {
     "data": {
      "text/latex": [
       "$\\displaystyle \\frac{c \\left(a - b\\right)}{d}$"
      ],
      "text/plain": [
       "c*(a - b)/d"
      ]
     },
     "execution_count": 7,
     "metadata": {},
     "output_type": "execute_result"
    }
   ],
   "source": [
    "def make_expr(syms, op_order, nums=None):\n",
    "    def take_op(lhs, rhs):\n",
    "        take_op.i = take_op.i+1\n",
    "        return op_lookup[op_order[take_op.i]](lhs, rhs)\n",
    "    take_op.i = 0\n",
    "    expr = functools.reduce(take_op, syms)\n",
    "    if nums:\n",
    "        with sympy.evaluate(False):\n",
    "            expr = expr.subs(zip(syms, nums))\n",
    "    return expr\n",
    "\n",
    "expr = make_expr(sympy.symbols('a b c d'), op_orders[0])\n",
    "expr"
   ]
  },
  {
   "cell_type": "code",
   "execution_count": 8,
   "id": "14fedb32-32ef-47ca-a8b7-7e2b36a3ece0",
   "metadata": {},
   "outputs": [
    {
     "data": {
      "text/html": [
       "<div>\n",
       "<style scoped>\n",
       "    .dataframe tbody tr th:only-of-type {\n",
       "        vertical-align: middle;\n",
       "    }\n",
       "\n",
       "    .dataframe tbody tr th {\n",
       "        vertical-align: top;\n",
       "    }\n",
       "\n",
       "    .dataframe thead th {\n",
       "        text-align: right;\n",
       "    }\n",
       "</style>\n",
       "<table border=\"1\" class=\"dataframe\">\n",
       "  <thead>\n",
       "    <tr style=\"text-align: right;\">\n",
       "      <th></th>\n",
       "      <th>a</th>\n",
       "      <th>b</th>\n",
       "      <th>c</th>\n",
       "      <th>d</th>\n",
       "      <th>expression</th>\n",
       "      <th>result</th>\n",
       "      <th>letter</th>\n",
       "    </tr>\n",
       "  </thead>\n",
       "  <tbody>\n",
       "    <tr>\n",
       "      <th>0</th>\n",
       "      <td>+8</td>\n",
       "      <td>-6</td>\n",
       "      <td>×45</td>\n",
       "      <td>÷5</td>\n",
       "      <td>45*(8 - 1*6)/5</td>\n",
       "      <td>18</td>\n",
       "      <td>R</td>\n",
       "    </tr>\n",
       "    <tr>\n",
       "      <th>1</th>\n",
       "      <td>+8</td>\n",
       "      <td>÷6</td>\n",
       "      <td>×45</td>\n",
       "      <td>-5</td>\n",
       "      <td>-1*5 + 8*45/6</td>\n",
       "      <td>55</td>\n",
       "      <td>w</td>\n",
       "    </tr>\n",
       "    <tr>\n",
       "      <th>2</th>\n",
       "      <td>+86</td>\n",
       "      <td>-4</td>\n",
       "      <td>×5</td>\n",
       "      <td>÷5</td>\n",
       "      <td>5*(86 - 1*4)/5</td>\n",
       "      <td>82</td>\n",
       "      <td></td>\n",
       "    </tr>\n",
       "    <tr>\n",
       "      <th>3</th>\n",
       "      <td>+86</td>\n",
       "      <td>-4</td>\n",
       "      <td>÷5</td>\n",
       "      <td>×5</td>\n",
       "      <td>5*(86 - 1*4)/5</td>\n",
       "      <td>82</td>\n",
       "      <td></td>\n",
       "    </tr>\n",
       "  </tbody>\n",
       "</table>\n",
       "</div>"
      ],
      "text/plain": [
       "     a   b    c   d      expression result letter\n",
       "0   +8  -6  ×45  ÷5  45*(8 - 1*6)/5     18      R\n",
       "1   +8  ÷6  ×45  -5   -1*5 + 8*45/6     55      w\n",
       "2  +86  -4   ×5  ÷5  5*(86 - 1*4)/5     82      \n",
       "3  +86  -4   ÷5  ×5  5*(86 - 1*4)/5     82      "
      ]
     },
     "execution_count": 8,
     "metadata": {},
     "output_type": "execute_result"
    }
   ],
   "source": [
    "def _possible_cores(num, include_invalid=False):\n",
    "    syms = sympy.symbols('a b c d')\n",
    "    if type(num) is str:\n",
    "        splits = [word_to_nums(num)]\n",
    "        if len(splits[0]) != 4:\n",
    "            raise ValueError()\n",
    "    else:\n",
    "        splits = number_splits(num)\n",
    "    for nums in splits:\n",
    "        for op_order in op_orders:\n",
    "            expr = make_expr(syms, op_order, nums)\n",
    "            result = expr.doit()\n",
    "            valid = result.is_integer and result > 0\n",
    "            if valid or include_invalid:\n",
    "                yield({\n",
    "                    syms[0].name: f\"{op_order[0]}{nums[0]}\",\n",
    "                    syms[1].name: f\"{op_order[1]}{nums[1]}\",\n",
    "                    syms[2].name: f\"{op_order[2]}{nums[2]}\",\n",
    "                    syms[3].name: f\"{op_order[3]}{nums[3]}\",\n",
    "                    \"expression\": expr,\n",
    "                    \"result\": result,\n",
    "                    \"letter\": chr(result + 64)\n",
    "                })\n",
    "\n",
    "def possible_cores(num, include_invalid=False):\n",
    "    return pd.DataFrame([*_possible_cores(num, include_invalid=include_invalid)])\n",
    "\n",
    "possible_cores(86455)"
   ]
  },
  {
   "cell_type": "code",
   "execution_count": 79,
   "id": "ed53a70e-358b-4011-a78a-bc36422f5db9",
   "metadata": {},
   "outputs": [
    {
     "data": {
      "text/latex": [
       "$\\displaystyle \\frac{45 \\cdot \\left(8 - 6\\right)}{5} = 18$"
      ],
      "text/plain": [
       "<IPython.core.display.Math object>"
      ]
     },
     "metadata": {},
     "output_type": "display_data"
    },
    {
     "data": {
      "text/latex": [
       "$\\displaystyle 18$"
      ],
      "text/plain": [
       "18"
      ]
     },
     "execution_count": 79,
     "metadata": {},
     "output_type": "execute_result"
    }
   ],
   "source": [
    "def numeric_core(num, verbose=False):\n",
    "    cores = possible_cores(num)\n",
    "    if len(cores) == 0:\n",
    "        return 0\n",
    "    cores.sort_values(by=\"result\", inplace=True)\n",
    "    best = cores.iloc[0]\n",
    "    if verbose:\n",
    "        display(IPython.display.Math(f\"{sympy.latex(best.expression)} = {best.result}\"))\n",
    "        # display(best.expression)\n",
    "        # print(f\"{num} := {best.a} {best.b} {best.c} {best.d} = {best.result}\")\n",
    "    result = best[\"result\"]\n",
    "    if len(str(result)) > 3:\n",
    "        return numeric_core(result)\n",
    "    else:\n",
    "        return result\n",
    "\n",
    "numeric_core(86455, verbose=True)"
   ]
  },
  {
   "cell_type": "markdown",
   "id": "8966b38a-e101-4dcf-bf0c-87926f9304c7",
   "metadata": {},
   "source": [
    "---"
   ]
  },
  {
   "cell_type": "markdown",
   "id": "d2d2370f-86c9-41a5-bcdb-7d3b3adc2d72",
   "metadata": {},
   "source": [
    "### Word Cores"
   ]
  },
  {
   "cell_type": "code",
   "execution_count": null,
   "id": "e43bc70f-592f-4d23-a378-ee05ae3cbffa",
   "metadata": {},
   "outputs": [],
   "source": [
    "words = [\n",
    "    [\"pigs\", \"sand\", \"mail\", \"date\", \"head\"],\n",
    "    [\"clam\", \"peak\", \"heat\", \"joya\", \"well\"],\n",
    "    [\"toad\", \"card\", \"will\", \"tape\", \"legs\"],\n",
    "    [\"tree\", \"road\", \"maid\", \"slab\", \"rock\"],\n",
    "    [\"hand\", \"vase\", \"safe\", \"clay\", \"toes\"],\n",
    "]\n",
    "[nums_to_word(*[numeric_core(word) for word in row]) for row in  words]"
   ]
  },
  {
   "cell_type": "code",
   "execution_count": 10,
   "id": "754b82b1-dd25-4d33-87bf-0493e8badfaf",
   "metadata": {},
   "outputs": [
    {
     "data": {
      "text/html": [
       "<div>\n",
       "<style scoped>\n",
       "    .dataframe tbody tr th:only-of-type {\n",
       "        vertical-align: middle;\n",
       "    }\n",
       "\n",
       "    .dataframe tbody tr th {\n",
       "        vertical-align: top;\n",
       "    }\n",
       "\n",
       "    .dataframe thead th {\n",
       "        text-align: right;\n",
       "    }\n",
       "</style>\n",
       "<table border=\"1\" class=\"dataframe\">\n",
       "  <thead>\n",
       "    <tr style=\"text-align: right;\">\n",
       "      <th></th>\n",
       "      <th>a</th>\n",
       "      <th>b</th>\n",
       "      <th>c</th>\n",
       "      <th>d</th>\n",
       "      <th>expression</th>\n",
       "      <th>result</th>\n",
       "      <th>letter</th>\n",
       "    </tr>\n",
       "  </thead>\n",
       "  <tbody>\n",
       "    <tr>\n",
       "      <th>0</th>\n",
       "      <td>+16</td>\n",
       "      <td>-9</td>\n",
       "      <td>÷7</td>\n",
       "      <td>×19</td>\n",
       "      <td>19*(16 - 1*9)/7</td>\n",
       "      <td>19</td>\n",
       "      <td>S</td>\n",
       "    </tr>\n",
       "  </tbody>\n",
       "</table>\n",
       "</div>"
      ],
      "text/plain": [
       "     a   b   c    d       expression result letter\n",
       "0  +16  -9  ÷7  ×19  19*(16 - 1*9)/7     19      S"
      ]
     },
     "execution_count": 10,
     "metadata": {},
     "output_type": "execute_result"
    }
   ],
   "source": [
    "possible_cores('pigs')"
   ]
  },
  {
   "cell_type": "code",
   "execution_count": 12,
   "id": "12012e89-66ad-4b00-bde9-d1bec0e4943f",
   "metadata": {},
   "outputs": [
    {
     "data": {
      "text/html": [
       "<div>\n",
       "<style scoped>\n",
       "    .dataframe tbody tr th:only-of-type {\n",
       "        vertical-align: middle;\n",
       "    }\n",
       "\n",
       "    .dataframe tbody tr th {\n",
       "        vertical-align: top;\n",
       "    }\n",
       "\n",
       "    .dataframe thead th {\n",
       "        text-align: right;\n",
       "    }\n",
       "</style>\n",
       "<table border=\"1\" class=\"dataframe\">\n",
       "  <thead>\n",
       "    <tr style=\"text-align: right;\">\n",
       "      <th></th>\n",
       "      <th>a</th>\n",
       "      <th>b</th>\n",
       "      <th>c</th>\n",
       "      <th>d</th>\n",
       "      <th>expression</th>\n",
       "      <th>result</th>\n",
       "      <th>letter</th>\n",
       "    </tr>\n",
       "  </thead>\n",
       "  <tbody>\n",
       "    <tr>\n",
       "      <th>0</th>\n",
       "      <td>+8</td>\n",
       "      <td>-5</td>\n",
       "      <td>÷1</td>\n",
       "      <td>×20</td>\n",
       "      <td>20*(8 - 1*5)/1</td>\n",
       "      <td>60</td>\n",
       "      <td>|</td>\n",
       "    </tr>\n",
       "    <tr>\n",
       "      <th>1</th>\n",
       "      <td>+8</td>\n",
       "      <td>×5</td>\n",
       "      <td>÷1</td>\n",
       "      <td>-20</td>\n",
       "      <td>-1*20 + 8*5/1</td>\n",
       "      <td>20</td>\n",
       "      <td>T</td>\n",
       "    </tr>\n",
       "    <tr>\n",
       "      <th>2</th>\n",
       "      <td>+8</td>\n",
       "      <td>÷5</td>\n",
       "      <td>-1</td>\n",
       "      <td>×20</td>\n",
       "      <td>20*(-1*1 + 8/5)</td>\n",
       "      <td>12</td>\n",
       "      <td>L</td>\n",
       "    </tr>\n",
       "  </tbody>\n",
       "</table>\n",
       "</div>"
      ],
      "text/plain": [
       "    a   b   c    d       expression result letter\n",
       "0  +8  -5  ÷1  ×20   20*(8 - 1*5)/1     60      |\n",
       "1  +8  ×5  ÷1  -20    -1*20 + 8*5/1     20      T\n",
       "2  +8  ÷5  -1  ×20  20*(-1*1 + 8/5)     12      L"
      ]
     },
     "execution_count": 12,
     "metadata": {},
     "output_type": "execute_result"
    }
   ],
   "source": [
    "possible_cores('heat')"
   ]
  },
  {
   "cell_type": "markdown",
   "id": "0b064475-aae3-4dd4-8778-3a9f22c41c19",
   "metadata": {},
   "source": [
    "#### floating-point anomaly"
   ]
  },
  {
   "cell_type": "code",
   "execution_count": 13,
   "id": "1f10666c-be4c-4e82-8bc6-3b0106239aa0",
   "metadata": {},
   "outputs": [
    {
     "data": {
      "text/latex": [
       "$\\displaystyle 20 \\left(\\left(-1\\right) 1 + \\frac{8}{5}\\right) = 12$"
      ],
      "text/plain": [
       "<IPython.core.display.Math object>"
      ]
     },
     "metadata": {},
     "output_type": "display_data"
    },
    {
     "data": {
      "text/latex": [
       "$\\displaystyle 12$"
      ],
      "text/plain": [
       "12"
      ]
     },
     "execution_count": 13,
     "metadata": {},
     "output_type": "execute_result"
    }
   ],
   "source": [
    "numeric_core('heat', verbose=True)"
   ]
  },
  {
   "cell_type": "code",
   "execution_count": 59,
   "id": "cd03c538-1852-45a8-a4ed-f710d06eccd3",
   "metadata": {},
   "outputs": [
    {
     "data": {
      "text/plain": [
       "12.000000000000002"
      ]
     },
     "execution_count": 59,
     "metadata": {},
     "output_type": "execute_result"
    }
   ],
   "source": [
    "((8.0 / 5.0) - 1.0) * 20"
   ]
  },
  {
   "cell_type": "code",
   "execution_count": null,
   "id": "e89503fc-801f-478e-93f3-11dab752c9ad",
   "metadata": {},
   "outputs": [],
   "source": [
    "(((+8 ×5) ÷1) -20) = 20"
   ]
  },
  {
   "cell_type": "code",
   "execution_count": null,
   "id": "f1c9047c-275e-4f24-8587-ceadf7b32909",
   "metadata": {},
   "outputs": [],
   "source": [
    "(((+8 ÷5) -1) ×20) = 12"
   ]
  },
  {
   "cell_type": "markdown",
   "id": "b768fe14-07a1-4e5e-b7ca-5252ce59eec4",
   "metadata": {},
   "source": [
    "---\n",
    "### 4-letter dictionary words grouped by their core"
   ]
  },
  {
   "cell_type": "code",
   "execution_count": 31,
   "id": "9da67827-76cc-4889-9c60-bb4fd74ceb58",
   "metadata": {},
   "outputs": [],
   "source": [
    "from pathlib import Path\n",
    "from collections import defaultdict"
   ]
  },
  {
   "cell_type": "code",
   "execution_count": null,
   "id": "d92a2706-402d-43ec-b586-a2fdb37f42d7",
   "metadata": {},
   "outputs": [],
   "source": [
    "with Path('/usr/share/dict/words').open('r') as f:\n",
    "    dict = f.read().split('\\n')\n",
    "\n",
    "core_words = defaultdict(list)\n",
    "\n",
    "for word in dict:\n",
    "    if len(word) != 4:\n",
    "        continue\n",
    "    core = numeric_core(word)\n",
    "    if core != 0:\n",
    "        core_words[core].append(word)"
   ]
  },
  {
   "cell_type": "code",
   "execution_count": 34,
   "id": "451cf100-3855-4f16-8d31-8df423ba63ed",
   "metadata": {},
   "outputs": [
    {
     "name": "stdout",
     "output_type": "stream",
     "text": [
      "blad buba calp chad clap fate fuze hade haet jati Lula malt Mayo mico naid neti ocht pail pale Pali pali palp pato pirl plea pupa rane sand Sart sart scyt sent Sikh soco Tape tape teil teli thio tidy toad Toda trod ulla vare Waac ward wase wert wint yegg yell zink zuza blad buba calp chad clap fate fuze hade haet jati Lula malt Mayo mico naid neti ocht pail pale Pali pali palp pato pirl plea pupa rane sand Sart sart scyt sent Sikh soco Tape tape teil teli thio tidy toad Toda trod ulla vare Waac ward wase wert wint yegg yell zink zuza\n"
     ]
    }
   ],
   "source": [
    "print(' '.join(core_words[20]))"
   ]
  },
  {
   "cell_type": "code",
   "execution_count": 52,
   "id": "4bf1792b-ebd7-43ba-9cd7-25d9aa5510f9",
   "metadata": {},
   "outputs": [
    {
     "data": {
      "text/html": [
       "<div>\n",
       "<style scoped>\n",
       "    .dataframe tbody tr th:only-of-type {\n",
       "        vertical-align: middle;\n",
       "    }\n",
       "\n",
       "    .dataframe tbody tr th {\n",
       "        vertical-align: top;\n",
       "    }\n",
       "\n",
       "    .dataframe thead th {\n",
       "        text-align: right;\n",
       "    }\n",
       "</style>\n",
       "<table border=\"1\" class=\"dataframe\">\n",
       "  <thead>\n",
       "    <tr style=\"text-align: right;\">\n",
       "      <th></th>\n",
       "      <th>a</th>\n",
       "      <th>b</th>\n",
       "      <th>c</th>\n",
       "      <th>d</th>\n",
       "      <th>expression</th>\n",
       "      <th>result</th>\n",
       "      <th>letter</th>\n",
       "    </tr>\n",
       "  </thead>\n",
       "  <tbody>\n",
       "    <tr>\n",
       "      <th>0</th>\n",
       "      <td>+16</td>\n",
       "      <td>-1</td>\n",
       "      <td>÷9</td>\n",
       "      <td>×12</td>\n",
       "      <td>12*(16 - 1*1)/9</td>\n",
       "      <td>20</td>\n",
       "      <td>T</td>\n",
       "    </tr>\n",
       "    <tr>\n",
       "      <th>1</th>\n",
       "      <td>+16</td>\n",
       "      <td>÷1</td>\n",
       "      <td>-9</td>\n",
       "      <td>×12</td>\n",
       "      <td>12*(-1*9 + 16/1)</td>\n",
       "      <td>84</td>\n",
       "      <td></td>\n",
       "    </tr>\n",
       "    <tr>\n",
       "      <th>2</th>\n",
       "      <td>+16</td>\n",
       "      <td>÷1</td>\n",
       "      <td>×9</td>\n",
       "      <td>-12</td>\n",
       "      <td>-1*12 + 16*9/1</td>\n",
       "      <td>132</td>\n",
       "      <td>Ä</td>\n",
       "    </tr>\n",
       "  </tbody>\n",
       "</table>\n",
       "</div>"
      ],
      "text/plain": [
       "     a   b   c    d        expression result letter\n",
       "0  +16  -1  ÷9  ×12   12*(16 - 1*1)/9     20      T\n",
       "1  +16  ÷1  -9  ×12  12*(-1*9 + 16/1)     84      \n",
       "2  +16  ÷1  ×9  -12    -1*12 + 16*9/1    132      Ä"
      ]
     },
     "execution_count": 52,
     "metadata": {},
     "output_type": "execute_result"
    }
   ],
   "source": [
    "possible_cores('pail')"
   ]
  },
  {
   "cell_type": "markdown",
   "id": "a7ea3b74-e2e8-42aa-93b4-dfe36a76b0b6",
   "metadata": {},
   "source": [
    "---"
   ]
  },
  {
   "cell_type": "markdown",
   "id": "4419cdb8-1777-4792-8df8-aa1e29f62bc3",
   "metadata": {},
   "source": [
    "### For Comparison: floating-point version by Briggsby"
   ]
  },
  {
   "cell_type": "code",
   "execution_count": 65,
   "id": "a7b2010b-4e0b-4086-95b0-502c27518c90",
   "metadata": {},
   "outputs": [],
   "source": [
    "import itertools\n",
    "\n",
    "OPERATIONS = ['/', '-', '*']\n",
    "OPERATORS = {\n",
    "    '-': (lambda a, b: a - b),\n",
    "    '/': (lambda a, b: a / b),\n",
    "    '*': (lambda a, b: a * b),\n",
    "}\n",
    "ALL_OPERATOR_PERMUTATIONS = list(itertools.permutations(OPERATIONS))\n",
    "\n",
    "\n",
    "def get_core(numbers: list[float]):\n",
    "    if len(numbers) != 4:\n",
    "        raise ValueError\n",
    "    lowest_result = None\n",
    "    lowest_result_number_permutation = None\n",
    "    lowest_result_operator_permutation = None\n",
    "    for operator_permutation in ALL_OPERATOR_PERMUTATIONS:\n",
    "        result = numbers[0]\n",
    "        result = OPERATORS[operator_permutation[0]](result, numbers[1])\n",
    "        result = OPERATORS[operator_permutation[1]](result, numbers[2])\n",
    "        result = OPERATORS[operator_permutation[2]](result, numbers[3])\n",
    "\n",
    "        if result <= 0 or not result.is_integer():\n",
    "            continue\n",
    "\n",
    "        if lowest_result is None or result < lowest_result:\n",
    "            lowest_result = result\n",
    "            lowest_result_number_permutation = numbers\n",
    "            lowest_result_operator_permutation = operator_permutation\n",
    "\n",
    "    if lowest_result is None:\n",
    "        return 0, None, None\n",
    "    return int(lowest_result), lowest_result_number_permutation, lowest_result_operator_permutation\n",
    "\n",
    "\n",
    "def get_core_from_word(word: str):\n",
    "    numbers = [float(ord(char)) - 96 for char in word]\n",
    "    # print(f\"Solving core for {word}: {numbers}\")\n",
    "    core, numbers_order, operators_order = get_core(numbers)\n",
    "    # print(core, numbers_order, operators_order)\n",
    "    #print(chr(core + 96), end=\"\")\n",
    "    # print(core, end=\",\")\n",
    "    return get_core(numbers)\n"
   ]
  },
  {
   "cell_type": "code",
   "execution_count": 64,
   "id": "e45ce7a8-c973-4f26-9a71-76724d2346b2",
   "metadata": {},
   "outputs": [
    {
     "name": "stdout",
     "output_type": "stream",
     "text": [
      "t"
     ]
    },
    {
     "data": {
      "text/plain": [
       "(20, [8.0, 5.0, 1.0, 20.0], ('*', '/', '-'))"
      ]
     },
     "execution_count": 64,
     "metadata": {},
     "output_type": "execute_result"
    }
   ],
   "source": [
    "get_core_from_word(\"heat\")"
   ]
  },
  {
   "cell_type": "code",
   "execution_count": 66,
   "id": "3d046866-c09e-4ab3-989e-27574f0046f5",
   "metadata": {},
   "outputs": [],
   "source": [
    "word_cores = []\n",
    "core_words = defaultdict(list)\n",
    "\n",
    "for word in dict:\n",
    "    if len(word) != 4:\n",
    "        continue\n",
    "    core = numeric_core(word)\n",
    "    if core != 0:\n",
    "        core_words[core].append(word)\n",
    "        float_core, _, _ = get_core_from_word(word.lower())\n",
    "        word_cores.append({\"word\": word, \"rational_core\": core, \"floating_core\": float_core})\n",
    "\n",
    "word_df = pd.DataFrame(word_cores)"
   ]
  },
  {
   "cell_type": "code",
   "execution_count": 75,
   "id": "8891fced-1c53-4944-b081-a3ab50c9863f",
   "metadata": {},
   "outputs": [],
   "source": [
    "word_df.set_index(\"word\", inplace=True)"
   ]
  },
  {
   "cell_type": "code",
   "execution_count": 78,
   "id": "0fa12c7a-d8f8-4eab-be0e-5ebe025c22b5",
   "metadata": {},
   "outputs": [
    {
     "data": {
      "text/html": [
       "<div>\n",
       "<style scoped>\n",
       "    .dataframe tbody tr th:only-of-type {\n",
       "        vertical-align: middle;\n",
       "    }\n",
       "\n",
       "    .dataframe tbody tr th {\n",
       "        vertical-align: top;\n",
       "    }\n",
       "\n",
       "    .dataframe thead th {\n",
       "        text-align: right;\n",
       "    }\n",
       "</style>\n",
       "<table border=\"1\" class=\"dataframe\">\n",
       "  <thead>\n",
       "    <tr style=\"text-align: right;\">\n",
       "      <th></th>\n",
       "      <th>rational_core</th>\n",
       "      <th>floating_core</th>\n",
       "    </tr>\n",
       "    <tr>\n",
       "      <th>word</th>\n",
       "      <th></th>\n",
       "      <th></th>\n",
       "    </tr>\n",
       "  </thead>\n",
       "  <tbody>\n",
       "    <tr>\n",
       "      <th>feat</th>\n",
       "      <td>4</td>\n",
       "      <td>10</td>\n",
       "    </tr>\n",
       "    <tr>\n",
       "      <th>Geat</th>\n",
       "      <td>8</td>\n",
       "      <td>15</td>\n",
       "    </tr>\n",
       "    <tr>\n",
       "      <th>geat</th>\n",
       "      <td>8</td>\n",
       "      <td>15</td>\n",
       "    </tr>\n",
       "    <tr>\n",
       "      <th>heat</th>\n",
       "      <td>12</td>\n",
       "      <td>20</td>\n",
       "    </tr>\n",
       "    <tr>\n",
       "      <th>liar</th>\n",
       "      <td>6</td>\n",
       "      <td>54</td>\n",
       "    </tr>\n",
       "    <tr>\n",
       "      <th>Onan</th>\n",
       "      <td>1</td>\n",
       "      <td>14</td>\n",
       "    </tr>\n",
       "    <tr>\n",
       "      <th>sect</th>\n",
       "      <td>16</td>\n",
       "      <td>0</td>\n",
       "    </tr>\n",
       "    <tr>\n",
       "      <th>Ural</th>\n",
       "      <td>2</td>\n",
       "      <td>36</td>\n",
       "    </tr>\n",
       "    <tr>\n",
       "      <th>ural</th>\n",
       "      <td>2</td>\n",
       "      <td>36</td>\n",
       "    </tr>\n",
       "    <tr>\n",
       "      <th>wede</th>\n",
       "      <td>3</td>\n",
       "      <td>0</td>\n",
       "    </tr>\n",
       "  </tbody>\n",
       "</table>\n",
       "</div>"
      ],
      "text/plain": [
       "     rational_core  floating_core\n",
       "word                             \n",
       "feat             4             10\n",
       "Geat             8             15\n",
       "geat             8             15\n",
       "heat            12             20\n",
       "liar             6             54\n",
       "Onan             1             14\n",
       "sect            16              0\n",
       "Ural             2             36\n",
       "ural             2             36\n",
       "wede             3              0"
      ]
     },
     "execution_count": 78,
     "metadata": {},
     "output_type": "execute_result"
    }
   ],
   "source": [
    "word_df[word_df.rational_core != word_df.floating_core]"
   ]
  }
 ],
 "metadata": {
  "kernelspec": {
   "display_name": "Python 3 (ipykernel)",
   "language": "python",
   "name": "python3"
  },
  "language_info": {
   "codemirror_mode": {
    "name": "ipython",
    "version": 3
   },
   "file_extension": ".py",
   "mimetype": "text/x-python",
   "name": "python",
   "nbconvert_exporter": "python",
   "pygments_lexer": "ipython3",
   "version": "3.10.11"
  }
 },
 "nbformat": 4,
 "nbformat_minor": 5
}
